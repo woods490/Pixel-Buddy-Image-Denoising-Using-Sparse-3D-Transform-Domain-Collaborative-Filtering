{
 "cells": [
  {
   "cell_type": "markdown",
   "id": "df985c2b",
   "metadata": {},
   "source": [
    "# Overview"
   ]
  },
  {
   "cell_type": "markdown",
   "id": "2223537d",
   "metadata": {},
   "source": [
    "<span style=\"font-size: 16px;\">\n",
    "Image denoising is a computer vision task that involves removing noise from an image. Noise can be introduced into an image during acquisition or processing, and can reduce image quality and make it difficult to interpret. Image denoising techniques aim to restore an image to its original quality by reducing or removing the noise, while preserving the important features of the image. Below is the example of an image denoising using Markov-Chain Monte Carlo denoising method developed by researchers in University of Waterloo\n",
    "</span>&nbsp;\n",
    "\n",
    "<img src=\"./Pictures/Markov-Chain Monte Carlo denoising.PNG\" width=\"450\"/>&nbsp;\n",
    "\n",
    "<span style=\"font-size: 16px;\">\n",
    "My aim is to create an app that can reduce noise in an image while also be deployable for the public to be used freely. This needs an application that is light yet effective enough to produce satisfying result.\n",
    "</span>&nbsp;"
   ]
  },
  {
   "cell_type": "markdown",
   "id": "5a2bc5e0",
   "metadata": {},
   "source": [
    "# Approach "
   ]
  },
  {
   "cell_type": "markdown",
   "id": "2b9f0df1",
   "metadata": {},
   "source": [
    "<span style=\"font-size: 16px;\">\n",
    "The approach that I used involve matrix approximation using Singular Values Decomposition (SVD). The way SVD can be used for denoising image is to retain all the important \"pixel values\", eliminating all other that are considered noises, then replacing them with a new approximated values. The visualization of the process can be seen below:\n",
    "</span>&nbsp;\n",
    "\n",
    "<img src=\"./Pictures/svd_mixing_dict.PNG\" width=\"450\"/>&nbsp;\n",
    "\n",
    "<span style=\"font-size: 16px;\">\n",
    "Since it uses matrix approximation, it needs a \"reference\" to determine how much are noises and how much are the \"important\" values in the matrix. This \"reference\" refers to the optimal threshold of singular value truncation in SVD. Luckily, back in 2014, statistician from the Stanford University, David Donoho and Matan Gavish published a paper called \"The Optimal Hard Threshold for Singular Values is 4/√3\" which you can find <a href=\"https://arxiv.org/pdf/1305.5870.pdf\" target=\"_blank\">here</a> which provides way to find the optimal threshold of singular value truncation in SVD. This way is called \"Optimal Hard Threshold for Matrix Denoising.\" \n",
    "</span>&nbsp;"
   ]
  },
  {
   "cell_type": "markdown",
   "id": "2864a636",
   "metadata": {},
   "source": [
    "# Implementation and Test"
   ]
  },
  {
   "cell_type": "markdown",
   "id": "84e047db",
   "metadata": {},
   "source": [
    "<span style=\"font-size: 16px;\">\n",
    "Implementation of Optimal Hard Threshold for Matrix Denoising can be found <a href=\"https://github.com/erichson/optht\" target=\"_blank\">here</a>. Credits to <a href=\"https://sdahdah.github.io/\" target=\"_blank\">Steven Dahdah</a>, <a href=\"https://www.benerichson.com/\" target=\"_blank\">Ben Erichson</a>, <a href=\"https://www.basicmachines.com/\" target=\"_blank\">Bill Tubbs</a>, and <a href=\"https://github.com/nish-ant\" target=\"_blank\">Github User Nish Ant</a>. I will be using the Python library implementation of it and test it on Smartphone Image Denoising Dataset and several noisy image I personally chose.\n",
    "</span>&nbsp;\n",
    "\n"
   ]
  },
  {
   "cell_type": "markdown",
   "id": "afc334ca",
   "metadata": {},
   "source": [
    "### Test on Individual Images "
   ]
  },
  {
   "cell_type": "markdown",
   "id": "eb8455a0",
   "metadata": {},
   "source": [
    "Before continouing further I want to test it on individual images. Individual images that will be used is the example images used by the University of Waterloo to demonstrate their Markov-Chain Monte Carlo denoising method. I will be comparing the reconstructed picture with it"
   ]
  },
  {
   "cell_type": "code",
   "execution_count": 1,
   "id": "a58f0347",
   "metadata": {},
   "outputs": [
    {
     "name": "stdout",
     "output_type": "stream",
     "text": [
      "Denoising: ./Pictures/images.jpg\n",
      "The noise levels are [30.], [29.], [36.].\n"
     ]
    },
    {
     "ename": "ValueError",
     "evalue": "shapes (108,108) and (36,60) not aligned: 108 (dim 1) != 36 (dim 0)",
     "output_type": "error",
     "traceback": [
      "\u001b[1;31m---------------------------------------------------------------------------\u001b[0m",
      "\u001b[1;31mValueError\u001b[0m                                Traceback (most recent call last)",
      "\u001b[1;32m<ipython-input-1-5bc348c29f39>\u001b[0m in \u001b[0;36m<module>\u001b[1;34m\u001b[0m\n\u001b[0;32m     67\u001b[0m \u001b[1;33m\u001b[0m\u001b[0m\n\u001b[0;32m     68\u001b[0m \u001b[1;31m# Call the denoising function\u001b[0m\u001b[1;33m\u001b[0m\u001b[1;33m\u001b[0m\u001b[1;33m\u001b[0m\u001b[0m\n\u001b[1;32m---> 69\u001b[1;33m \u001b[0mim_out\u001b[0m\u001b[1;33m,\u001b[0m \u001b[0mPar\u001b[0m \u001b[1;33m=\u001b[0m \u001b[0mMCWNNM_ADMM1_NL_Denoising\u001b[0m\u001b[1;33m(\u001b[0m\u001b[0mPar\u001b[0m\u001b[1;33m[\u001b[0m\u001b[1;34m'nim'\u001b[0m\u001b[1;33m]\u001b[0m\u001b[1;33m,\u001b[0m \u001b[0mPar\u001b[0m\u001b[1;33m[\u001b[0m\u001b[1;34m'I'\u001b[0m\u001b[1;33m]\u001b[0m\u001b[1;33m,\u001b[0m \u001b[0mPar\u001b[0m\u001b[1;33m)\u001b[0m\u001b[1;33m\u001b[0m\u001b[1;33m\u001b[0m\u001b[0m\n\u001b[0m\u001b[0;32m     70\u001b[0m \u001b[1;33m\u001b[0m\u001b[0m\n\u001b[0;32m     71\u001b[0m \u001b[0mim_out\u001b[0m\u001b[1;33m[\u001b[0m\u001b[0mim_out\u001b[0m \u001b[1;33m>\u001b[0m \u001b[1;36m255\u001b[0m\u001b[1;33m]\u001b[0m \u001b[1;33m=\u001b[0m \u001b[1;36m255\u001b[0m\u001b[1;33m\u001b[0m\u001b[1;33m\u001b[0m\u001b[0m\n",
      "\u001b[1;32m~\\OneDrive\\Documents\\Portfolio Projects\\Pixel Buddy\\Model Testing Phase\\MCWNNM_ADMM1_NL_Denoising.py\u001b[0m in \u001b[0;36mMCWNNM_ADMM1_NL_Denoising\u001b[1;34m(N_Img, O_Img, Par)\u001b[0m\n\u001b[0;32m     33\u001b[0m             \u001b[0mNL_mat\u001b[0m \u001b[1;33m=\u001b[0m \u001b[0mBlock_Matching_Real\u001b[0m\u001b[1;33m(\u001b[0m\u001b[0mCurPat\u001b[0m\u001b[1;33m,\u001b[0m \u001b[0mPar\u001b[0m\u001b[1;33m)\u001b[0m  \u001b[1;31m# Calculate Non-local similar patches for each\u001b[0m\u001b[1;33m\u001b[0m\u001b[1;33m\u001b[0m\u001b[0m\n\u001b[0;32m     34\u001b[0m \u001b[1;33m\u001b[0m\u001b[0m\n\u001b[1;32m---> 35\u001b[1;33m         \u001b[0mY_hat\u001b[0m\u001b[1;33m,\u001b[0m \u001b[0mW_hat\u001b[0m\u001b[1;33m,\u001b[0m \u001b[0mSigma\u001b[0m \u001b[1;33m=\u001b[0m \u001b[0mMCWNNM_ADMM1_NL_Estimation\u001b[0m\u001b[1;33m(\u001b[0m\u001b[0mNL_mat\u001b[0m\u001b[1;33m,\u001b[0m \u001b[0mSigma_arrCh\u001b[0m\u001b[1;33m,\u001b[0m \u001b[0mNoiPat\u001b[0m\u001b[1;33m,\u001b[0m \u001b[0mPar\u001b[0m\u001b[1;33m)\u001b[0m  \u001b[1;31m# Estimate all the patches\u001b[0m\u001b[1;33m\u001b[0m\u001b[1;33m\u001b[0m\u001b[0m\n\u001b[0m\u001b[0;32m     36\u001b[0m         \u001b[0mE_Img\u001b[0m \u001b[1;33m=\u001b[0m \u001b[0mPGs2Image\u001b[0m\u001b[1;33m(\u001b[0m\u001b[0mY_hat\u001b[0m\u001b[1;33m,\u001b[0m \u001b[0mW_hat\u001b[0m\u001b[1;33m,\u001b[0m \u001b[0mPar\u001b[0m\u001b[1;33m)\u001b[0m\u001b[1;33m\u001b[0m\u001b[1;33m\u001b[0m\u001b[0m\n\u001b[0;32m     37\u001b[0m \u001b[1;33m\u001b[0m\u001b[0m\n",
      "\u001b[1;32m~\\OneDrive\\Documents\\Portfolio Projects\\Pixel Buddy\\Model Testing Phase\\utils.py\u001b[0m in \u001b[0;36mMCWNNM_ADMM1_NL_Estimation\u001b[1;34m(NL_mat, Sigma_arr, CurPat, Par)\u001b[0m\n\u001b[0;32m     27\u001b[0m         \u001b[0mmY\u001b[0m \u001b[1;33m=\u001b[0m \u001b[0mnp\u001b[0m\u001b[1;33m.\u001b[0m\u001b[0mmean\u001b[0m\u001b[1;33m(\u001b[0m\u001b[0mY\u001b[0m\u001b[1;33m,\u001b[0m \u001b[0maxis\u001b[0m\u001b[1;33m=\u001b[0m\u001b[1;36m1\u001b[0m\u001b[1;33m,\u001b[0m \u001b[0mkeepdims\u001b[0m\u001b[1;33m=\u001b[0m\u001b[1;32mTrue\u001b[0m\u001b[1;33m)\u001b[0m\u001b[1;33m\u001b[0m\u001b[1;33m\u001b[0m\u001b[0m\n\u001b[0;32m     28\u001b[0m         \u001b[0mY\u001b[0m \u001b[1;33m=\u001b[0m \u001b[0mY\u001b[0m \u001b[1;33m-\u001b[0m \u001b[0mmY\u001b[0m\u001b[1;33m\u001b[0m\u001b[1;33m\u001b[0m\u001b[0m\n\u001b[1;32m---> 29\u001b[1;33m         \u001b[0mX\u001b[0m\u001b[1;33m,\u001b[0m \u001b[0mSigma\u001b[0m\u001b[1;33m[\u001b[0m\u001b[1;33m:\u001b[0m\u001b[1;33m,\u001b[0m \u001b[0mi\u001b[0m\u001b[1;33m]\u001b[0m \u001b[1;33m=\u001b[0m \u001b[0mmcwnnm_admm_nl1\u001b[0m\u001b[1;33m(\u001b[0m\u001b[0mY\u001b[0m\u001b[1;33m,\u001b[0m \u001b[0mSigma_arr\u001b[0m\u001b[1;33m[\u001b[0m\u001b[1;33m:\u001b[0m\u001b[1;33m,\u001b[0m \u001b[0mi\u001b[0m\u001b[1;33m]\u001b[0m\u001b[1;33m,\u001b[0m \u001b[0mPar\u001b[0m\u001b[1;33m)\u001b[0m\u001b[1;33m\u001b[0m\u001b[1;33m\u001b[0m\u001b[0m\n\u001b[0m\u001b[0;32m     30\u001b[0m         \u001b[0mY_hat\u001b[0m\u001b[1;33m[\u001b[0m\u001b[1;33m:\u001b[0m\u001b[1;33m,\u001b[0m \u001b[0mNL_mat\u001b[0m\u001b[1;33m[\u001b[0m\u001b[1;33m:\u001b[0m\u001b[0mPar\u001b[0m\u001b[1;33m[\u001b[0m\u001b[1;34m'nlsp'\u001b[0m\u001b[1;33m]\u001b[0m\u001b[1;33m,\u001b[0m \u001b[0mi\u001b[0m\u001b[1;33m]\u001b[0m\u001b[1;33m]\u001b[0m \u001b[1;33m+=\u001b[0m \u001b[0mX\u001b[0m \u001b[1;33m+\u001b[0m \u001b[0mmY\u001b[0m\u001b[1;33m\u001b[0m\u001b[1;33m\u001b[0m\u001b[0m\n\u001b[0;32m     31\u001b[0m         \u001b[0mW_hat\u001b[0m\u001b[1;33m[\u001b[0m\u001b[1;33m:\u001b[0m\u001b[1;33m,\u001b[0m \u001b[0mNL_mat\u001b[0m\u001b[1;33m[\u001b[0m\u001b[1;33m:\u001b[0m\u001b[0mPar\u001b[0m\u001b[1;33m[\u001b[0m\u001b[1;34m'nlsp'\u001b[0m\u001b[1;33m]\u001b[0m\u001b[1;33m,\u001b[0m \u001b[0mi\u001b[0m\u001b[1;33m]\u001b[0m\u001b[1;33m]\u001b[0m \u001b[1;33m+=\u001b[0m \u001b[0mnp\u001b[0m\u001b[1;33m.\u001b[0m\u001b[0mones\u001b[0m\u001b[1;33m(\u001b[0m\u001b[1;33m(\u001b[0m\u001b[0mPar\u001b[0m\u001b[1;33m[\u001b[0m\u001b[1;34m'ps2ch'\u001b[0m\u001b[1;33m]\u001b[0m\u001b[1;33m,\u001b[0m \u001b[0mPar\u001b[0m\u001b[1;33m[\u001b[0m\u001b[1;34m'nlsp'\u001b[0m\u001b[1;33m]\u001b[0m\u001b[1;33m)\u001b[0m\u001b[1;33m)\u001b[0m\u001b[1;33m\u001b[0m\u001b[1;33m\u001b[0m\u001b[0m\n",
      "\u001b[1;32m~\\OneDrive\\Documents\\Portfolio Projects\\Pixel Buddy\\Model Testing Phase\\utils.py\u001b[0m in \u001b[0;36mmcwnnm_admm_nl1\u001b[1;34m(Y, NSig, Par)\u001b[0m\n\u001b[0;32m     85\u001b[0m \u001b[1;33m\u001b[0m\u001b[0m\n\u001b[0;32m     86\u001b[0m         \u001b[1;31m# Perform the matrix operations\u001b[0m\u001b[1;33m\u001b[0m\u001b[1;33m\u001b[0m\u001b[1;33m\u001b[0m\u001b[0m\n\u001b[1;32m---> 87\u001b[1;33m         \u001b[0mX\u001b[0m \u001b[1;33m=\u001b[0m \u001b[0mnp\u001b[0m\u001b[1;33m.\u001b[0m\u001b[0mdot\u001b[0m\u001b[1;33m(\u001b[0m\u001b[0mdiag_matrix\u001b[0m\u001b[1;33m,\u001b[0m \u001b[0mnp\u001b[0m\u001b[1;33m.\u001b[0m\u001b[0mdot\u001b[0m\u001b[1;33m(\u001b[0m\u001b[0mdiag_W_squared\u001b[0m\u001b[1;33m,\u001b[0m \u001b[0mY\u001b[0m\u001b[1;33m)\u001b[0m \u001b[1;33m+\u001b[0m \u001b[1;36m0.5\u001b[0m \u001b[1;33m*\u001b[0m \u001b[0mPar\u001b[0m\u001b[1;33m[\u001b[0m\u001b[1;34m'rho'\u001b[0m\u001b[1;33m]\u001b[0m \u001b[1;33m*\u001b[0m \u001b[0mZ\u001b[0m \u001b[1;33m-\u001b[0m \u001b[1;36m0.5\u001b[0m \u001b[1;33m*\u001b[0m \u001b[0mA\u001b[0m\u001b[1;33m)\u001b[0m\u001b[1;33m\u001b[0m\u001b[1;33m\u001b[0m\u001b[0m\n\u001b[0m\u001b[0;32m     88\u001b[0m         \u001b[1;31m# X = np.linalg.solve(np.diag(1 / (W**2 + 0.5 * Par['rho'])), np.dot(np.diag(W**2), Y) + 0.5 * Par['rho'] * (Z - 0.5 * A))\u001b[0m\u001b[1;33m\u001b[0m\u001b[1;33m\u001b[0m\u001b[1;33m\u001b[0m\u001b[0m\n\u001b[0;32m     89\u001b[0m \u001b[1;33m\u001b[0m\u001b[0m\n",
      "\u001b[1;32m~\\anaconda3\\lib\\site-packages\\numpy\\core\\overrides.py\u001b[0m in \u001b[0;36mdot\u001b[1;34m(*args, **kwargs)\u001b[0m\n",
      "\u001b[1;31mValueError\u001b[0m: shapes (108,108) and (36,60) not aligned: 108 (dim 1) != 36 (dim 0)"
     ]
    }
   ],
   "source": [
    "import os\n",
    "import cv2\n",
    "import numpy as np\n",
    "from skimage import io, color\n",
    "from NoiseEstimation import NoiseEstimation\n",
    "from utils import csnr, cal_ssim, Image2Patch, SearchNeighborIndex, Block_Matching_Real, MCWNNM_ADMM1_NL_Estimation, PGs2Image\n",
    "from MCWNNM_ADMM1_NL_Denoising import MCWNNM_ADMM1_NL_Denoising\n",
    "\n",
    "# Initialize parameters\n",
    "image_path = './Pictures/images.jpg'\n",
    "\n",
    "# Parameters for denoising real images\n",
    "Par = {\n",
    "    'win': 20,           # Non-local patch searching window\n",
    "    'delta': 0,          # Parameter between each iter\n",
    "    'Constant': 2 * np.sqrt(2),  # Constant num for the weight vector\n",
    "    'Innerloop': 2,      # InnerLoop Num of between re-blockmatching\n",
    "    'ps': 6,             # Patch size\n",
    "    'step': 5,\n",
    "    'Iter': 2,           # Total iter numbers, the parameter K1 in the paper\n",
    "    'display': True,\n",
    "    'method': 'MCWNNM_ADMM',\n",
    "    'maxIter': 10,       # The parameter K2 in the paper\n",
    "    'rho': 6,\n",
    "    'mu': 1,\n",
    "    'lambda': 1.5,      # Parameter for estimating noise standard deviation\n",
    "}\n",
    "\n",
    "def is_grayscale(image):\n",
    "    if len(image.shape) == 2:\n",
    "        # Image has only one channel, so it's grayscale\n",
    "        return True\n",
    "    elif len(image.shape) == 3:\n",
    "        # Image has three channels, check if all channels are the same\n",
    "        if (image[:, :, 0] == image[:, :, 1]).all() and (image[:, :, 0] == image[:, :, 2]).all():\n",
    "            return True\n",
    "    return False\n",
    "\n",
    "def convert_to_grayscale_matrix(image):\n",
    "    if len(image.shape) == 3:\n",
    "        return (color.rgb2gray(image) * 255).astype(np.uint8)\n",
    "    else:\n",
    "        return image.astype(np.uint8)\n",
    "\n",
    "im = io.imread(image_path)\n",
    "\n",
    "if is_grayscale(im):\n",
    "    im = convert_to_grayscale_matrix(im)\n",
    "else:\n",
    "    im = im\n",
    "\n",
    "# Load the image\n",
    "Par['nim'] = im\n",
    "Par['I'] = Par['nim']\n",
    "\n",
    "Par['nlsp'] = 70  # Initial Non-local Patch number\n",
    "\n",
    "print(f'Denoising: {image_path}')\n",
    "h, w, ch = Par['I'].shape\n",
    "\n",
    "# Estimate noise levels\n",
    "Par['nSig0'] = np.zeros((ch, 1), dtype=np.float64)\n",
    "for c in range(ch):\n",
    "    Par['nSig0'][c, 0] = NoiseEstimation(Par['nim'][:, :, c], Par['ps'])\n",
    "\n",
    "print(f'The noise levels are {Par[\"nSig0\"][0]}, {Par[\"nSig0\"][1]}, {Par[\"nSig0\"][2]}.')\n",
    "\n",
    "# Call the denoising function\n",
    "im_out, Par = MCWNNM_ADMM1_NL_Denoising(Par['nim'], Par['I'], Par)\n",
    "\n",
    "im_out[im_out > 255] = 255\n",
    "im_out[im_out < 0] = 0\n",
    "\n",
    "# Display images side by side\n",
    "plt.figure(figsize=(12, 6))\n",
    "\n",
    "# Noisy Image\n",
    "plt.subplot(1, 2, 1)\n",
    "plt.imshow(cv2.cvtColor(Par['nim'].astype(np.uint8), cv2.COLOR_BGR2RGB))\n",
    "plt.title('Noisy Image')\n",
    "plt.axis('off')\n",
    "\n",
    "# Denoised Image\n",
    "plt.subplot(1, 2, 2)\n",
    "plt.imshow(cv2.cvtColor(im_out.astype(np.uint8), cv2.COLOR_BGR2RGB))\n",
    "plt.title('Denoised Image')\n",
    "plt.axis('off')\n",
    "\n",
    "plt.show()"
   ]
  },
  {
   "cell_type": "code",
   "execution_count": 14,
   "id": "f979f016",
   "metadata": {},
   "outputs": [
    {
     "data": {
      "text/plain": [
       "array([[1.0000e+00, 6.0000e+00, 1.1000e+01, ..., 3.0096e+04, 3.0097e+04,\n",
       "        3.0098e+04],\n",
       "       [2.0000e+00, 4.1000e+02, 4.1300e+02, ..., 2.7059e+04, 3.0081e+04,\n",
       "        2.6854e+04],\n",
       "       [6.0000e+00, 7.0000e+00, 4.1000e+02, ..., 3.0080e+04, 2.9484e+04,\n",
       "        2.9896e+04],\n",
       "       ...,\n",
       "       [8.1600e+02, 1.4000e+01, 4.1500e+02, ..., 2.7870e+04, 2.9889e+04,\n",
       "        2.9882e+04],\n",
       "       [4.0410e+03, 1.2190e+03, 1.2140e+03, ..., 2.9271e+04, 2.7261e+04,\n",
       "        2.6457e+04],\n",
       "       [3.2350e+03, 2.1000e+01, 1.4170e+03, ..., 2.6044e+04, 2.6657e+04,\n",
       "        3.0083e+04]], dtype=float32)"
      ]
     },
     "execution_count": 14,
     "metadata": {},
     "output_type": "execute_result"
    }
   ],
   "source": [
    "X[blk_arr[:Par['nlsp'], i]"
   ]
  },
  {
   "cell_type": "code",
   "execution_count": 11,
   "id": "8275820d",
   "metadata": {},
   "outputs": [
    {
     "data": {
      "text/plain": [
       "60"
      ]
     },
     "execution_count": 11,
     "metadata": {},
     "output_type": "execute_result"
    }
   ],
   "source": [
    "Par['nlsp']"
   ]
  },
  {
   "cell_type": "code",
   "execution_count": 4,
   "id": "3755e2b1",
   "metadata": {},
   "outputs": [],
   "source": [
    "Sigma_arrCh = np.zeros((Par['ps2'] * Par['ch'], len(Par['SelfIndex'])))"
   ]
  },
  {
   "cell_type": "code",
   "execution_count": 9,
   "id": "70793ad7",
   "metadata": {},
   "outputs": [
    {
     "data": {
      "text/plain": [
       "(1386,)"
      ]
     },
     "execution_count": 9,
     "metadata": {},
     "output_type": "execute_result"
    }
   ],
   "source": [
    "Sigma = np.ones((Par['ch'], len(Par['SelfIndex'])))\n",
    "TempSigma_arrCh = Par['lambda'] * Par['nSig0'][c] * Sigma[c, :]\n",
    "TempSigma_arrCh.shape"
   ]
  },
  {
   "cell_type": "code",
   "execution_count": 18,
   "id": "34e25b05",
   "metadata": {},
   "outputs": [
    {
     "data": {
      "text/plain": [
       "(35, 1386)"
      ]
     },
     "execution_count": 18,
     "metadata": {},
     "output_type": "execute_result"
    }
   ],
   "source": [
    "Sigma_arrCh[c * Par['ps2']:((c + 1) * Par['ps2'])-1, :].shape"
   ]
  },
  {
   "cell_type": "code",
   "execution_count": 6,
   "id": "13a75d30",
   "metadata": {},
   "outputs": [
    {
     "data": {
      "text/plain": [
       "(36, 30098)"
      ]
     },
     "execution_count": 6,
     "metadata": {},
     "output_type": "execute_result"
    }
   ],
   "source": [
    "im_out = Par['I'].astype(np.float32)\n",
    "X = np.zeros((Par['ps2'], Par['maxrc']), dtype=np.float64)\n",
    "k = -1\n",
    "for l in range(1, Par['ch']+1):\n",
    "    for i in range(1, Par['ps']+1):\n",
    "        for j in range(1, Par['ps']+1):\n",
    "            k += 1\n",
    "            blk = im_out[(i-1):(im_out.shape[0]-Par['ps']+i), (j-1):(im_out.shape[1]-Par['ps']+j), (l-1)]\n",
    "            if k >= X.shape[0]:\n",
    "                break\n",
    "            X[k, :] = blk.ravel()\n",
    "    \n",
    "X.shape"
   ]
  },
  {
   "cell_type": "code",
   "execution_count": 7,
   "id": "eab3f7d4",
   "metadata": {},
   "outputs": [],
   "source": [
    "# This Function Precompute the all the patch indexes in the Searching window\n",
    "# -NeighborIndex is the array of neighbor patch indexes for each keypatch\n",
    "# -NumIndex is array of the effective neighbor patch numbers for each keypatch\n",
    "# -SelfIndex is the index of keypatches in the total patch index array\n",
    "Par['maxr'] = Par['h'] - Par['ps'] + 1\n",
    "Par['maxc'] = Par['w'] - Par['ps'] + 1\n",
    "r = np.arange(1, Par['maxr'] + 1, Par['step'])\n",
    "Par['r'] = np.concatenate([r, np.arange(r[-1] + 1, Par['maxr'] + 1)])\n",
    "c = np.arange(1, Par['maxc'] + 1, Par['step'])\n",
    "Par['c'] = np.concatenate([c, np.arange(c[-1] + 1, Par['maxc'] + 1)])\n",
    "Par['lenr'] = len(Par['r'])\n",
    "Par['lenc']  = len(Par['c'])\n",
    "Par['ps2'] = Par['ps']**2\n",
    "Par['ps2ch'] = Par['ps2'] * Par['ch']\n",
    "# Total number of patches in the test image\n",
    "Par['maxrc'] = Par['maxr'] * Par['maxc']\n",
    "# Total number of seed patches being processed\n",
    "Par['lenrc'] = Par['lenr'] * Par['lenc']\n",
    "# index of each patch in image\n",
    "Par['Index'] = np.arange(1, Par['maxrc'] + 1)\n",
    "Par['Index'] = np.reshape(Par['Index'], (Par['maxr'], Par['maxc']))\n",
    "# preset variables for all the patch indexes in the Searching window\n",
    "Par['NeighborIndex'] = np.zeros((4 * Par['win']**2, Par['lenrc']), dtype=np.int32)\n",
    "Par['NumIndex'] = np.zeros(Par['lenrc'], dtype=np.int32)\n",
    "Par['SelfIndex'] = np.zeros(Par['lenrc'], dtype=np.int32)\n",
    "\n",
    "for i in range(1, Par['lenr']+1):\n",
    "    for j in range(1, Par['lenc']+1):\n",
    "        row = Par['r'][i-1]\n",
    "        col = Par['c'][j-1]\n",
    "        off = (col-1) * Par['maxr'] + row\n",
    "        off1 = ((j-1) * Par['lenr'] + i) - 1\n",
    "\n",
    "        # the range indexes of the window for searching the similar patches\n",
    "        rmin = max(row - Par['win'], 0)\n",
    "        rmax = min(row + Par['win'], Par['maxr'])\n",
    "        cmin = max(col - Par['win'], 0)\n",
    "        cmax = min(col + Par['win'], Par['maxc'])\n",
    "\n",
    "        idx = Par['Index'][rmin:rmax, cmin:cmax]\n",
    "        idx = idx.ravel()\n",
    "\n",
    "        Par['NumIndex'][off1] = len(idx)\n",
    "        Par['NeighborIndex'][:Par['NumIndex'][off1], off1] = idx\n",
    "        Par['SelfIndex'][off1] = off"
   ]
  },
  {
   "cell_type": "code",
   "execution_count": 8,
   "id": "4f65025c",
   "metadata": {},
   "outputs": [
    {
     "data": {
      "text/plain": [
       "array([[1.0000e+00, 6.0000e+00, 1.1000e+01, ..., 3.0096e+04, 3.0097e+04,\n",
       "        3.0098e+04],\n",
       "       [2.0000e+00, 4.1000e+02, 4.1300e+02, ..., 2.7059e+04, 3.0081e+04,\n",
       "        2.6854e+04],\n",
       "       [6.0000e+00, 7.0000e+00, 4.1000e+02, ..., 3.0080e+04, 2.9484e+04,\n",
       "        2.9896e+04],\n",
       "       ...,\n",
       "       [8.1600e+02, 1.4000e+01, 4.1500e+02, ..., 2.7870e+04, 2.9889e+04,\n",
       "        2.9882e+04],\n",
       "       [4.0410e+03, 1.2190e+03, 1.2140e+03, ..., 2.9271e+04, 2.7261e+04,\n",
       "        2.6457e+04],\n",
       "       [3.2350e+03, 2.1000e+01, 1.4170e+03, ..., 2.6044e+04, 2.6657e+04,\n",
       "        3.0083e+04]], dtype=float32)"
      ]
     },
     "execution_count": 8,
     "metadata": {},
     "output_type": "execute_result"
    }
   ],
   "source": [
    "blk_arr = np.zeros((Par['nlsp'], Par['lenrc']), dtype=np.single)\n",
    "\n",
    "for i in range(Par['lenrc']):\n",
    "    seed = X[:, (Par['SelfIndex'][i]-1)]\n",
    "    neighbor = X[:, (Par['NeighborIndex'][:Par['NumIndex'][i], i]-1)]\n",
    "    dis = np.sum((neighbor - seed[:, None])**2, axis=0)\n",
    "    ind = np.argsort(dis)\n",
    "    indc = Par['NeighborIndex'][ind[:Par['nlsp']], i]\n",
    "    indc[indc == Par['SelfIndex'][i]] = indc[0]\n",
    "    indc[0] = Par['SelfIndex'][i]\n",
    "    blk_arr[:, i] = indc\n",
    "\n",
    "blk_arr"
   ]
  },
  {
   "cell_type": "code",
   "execution_count": 23,
   "id": "df5f2fd5",
   "metadata": {},
   "outputs": [
    {
     "data": {
      "text/plain": [
       "array([[124., 135.,  94., ...,  88., 151., 128.],\n",
       "       [135.,  94.,  92., ..., 151., 128., 143.],\n",
       "       [ 94.,  92., 114., ..., 128., 143.,  78.],\n",
       "       ...,\n",
       "       [125., 118.,  96., ..., 136., 124.,  68.],\n",
       "       [118.,  96., 177., ..., 124.,  68., 102.],\n",
       "       [ 96., 177., 166., ...,  68., 102., 130.]])"
      ]
     },
     "execution_count": 23,
     "metadata": {},
     "output_type": "execute_result"
    }
   ],
   "source": [
    "X[:, (Par['NeighborIndex'][:Par['NumIndex'][i], i]-1)]"
   ]
  },
  {
   "cell_type": "code",
   "execution_count": 25,
   "id": "67abf101",
   "metadata": {},
   "outputs": [
    {
     "data": {
      "text/plain": [
       "array([30098, 26854, 29896, 29885, 29892, 30082, 30095, 30084, 29893,\n",
       "       30092, 27669, 29082, 30090, 27061, 29877, 26648, 30081, 27060,\n",
       "       30087, 30094, 29284, 28880, 26857, 27268, 27057, 27051, 29485,\n",
       "       26658, 29487, 26855, 29890, 26853, 27055, 27058, 29482, 28481,\n",
       "       29685, 27665, 26655, 30091, 26453, 29889, 26454, 29488, 26653,\n",
       "       26446, 26651, 30097, 28472, 26252, 29490, 27056, 27062, 29484,\n",
       "       26863, 29895, 26254, 29882, 26457, 30083])"
      ]
     },
     "execution_count": 25,
     "metadata": {},
     "output_type": "execute_result"
    }
   ],
   "source": [
    "blk_arr[:Par['nlsp'], i].astype(int)"
   ]
  },
  {
   "cell_type": "code",
   "execution_count": 16,
   "id": "f57469f3",
   "metadata": {},
   "outputs": [
    {
     "data": {
      "text/plain": [
       "30098"
      ]
     },
     "execution_count": 16,
     "metadata": {},
     "output_type": "execute_result"
    }
   ],
   "source": [
    "Par['SelfIndex'][i]"
   ]
  },
  {
   "cell_type": "code",
   "execution_count": 28,
   "id": "21cc498d",
   "metadata": {},
   "outputs": [
    {
     "ename": "IndexError",
     "evalue": "index 30098 is out of bounds for axis 1 with size 30098",
     "output_type": "error",
     "traceback": [
      "\u001b[1;31m---------------------------------------------------------------------------\u001b[0m",
      "\u001b[1;31mIndexError\u001b[0m                                Traceback (most recent call last)",
      "\u001b[1;32m<ipython-input-28-8c587973a722>\u001b[0m in \u001b[0;36m<module>\u001b[1;34m\u001b[0m\n\u001b[1;32m----> 1\u001b[1;33m \u001b[0mX\u001b[0m\u001b[1;33m[\u001b[0m\u001b[1;33m:\u001b[0m\u001b[1;33m,\u001b[0m \u001b[0mblk_arr\u001b[0m\u001b[1;33m[\u001b[0m\u001b[1;33m:\u001b[0m\u001b[0mPar\u001b[0m\u001b[1;33m[\u001b[0m\u001b[1;34m'nlsp'\u001b[0m\u001b[1;33m]\u001b[0m\u001b[1;33m,\u001b[0m \u001b[0mi\u001b[0m\u001b[1;33m]\u001b[0m\u001b[1;33m.\u001b[0m\u001b[0mastype\u001b[0m\u001b[1;33m(\u001b[0m\u001b[0mint\u001b[0m\u001b[1;33m)\u001b[0m\u001b[1;33m]\u001b[0m\u001b[1;33m\u001b[0m\u001b[1;33m\u001b[0m\u001b[0m\n\u001b[0m",
      "\u001b[1;31mIndexError\u001b[0m: index 30098 is out of bounds for axis 1 with size 30098"
     ]
    }
   ],
   "source": [
    "X[:, blk_arr[:Par['nlsp'], i].astype(int)]"
   ]
  },
  {
   "cell_type": "code",
   "execution_count": 11,
   "id": "c3c37594",
   "metadata": {},
   "outputs": [
    {
     "data": {
      "text/plain": [
       "array([22589, 22590, 22591, ..., 30096, 30097, 30098])"
      ]
     },
     "execution_count": 11,
     "metadata": {},
     "output_type": "execute_result"
    }
   ],
   "source": [
    "Par['NeighborIndex'][:Par['NumIndex'][i], i]"
   ]
  },
  {
   "cell_type": "code",
   "execution_count": null,
   "id": "0f86201f",
   "metadata": {},
   "outputs": [],
   "source": []
  }
 ],
 "metadata": {
  "kernelspec": {
   "display_name": "Python 3",
   "language": "python",
   "name": "python3"
  },
  "language_info": {
   "codemirror_mode": {
    "name": "ipython",
    "version": 3
   },
   "file_extension": ".py",
   "mimetype": "text/x-python",
   "name": "python",
   "nbconvert_exporter": "python",
   "pygments_lexer": "ipython3",
   "version": "3.8.8"
  }
 },
 "nbformat": 4,
 "nbformat_minor": 5
}
